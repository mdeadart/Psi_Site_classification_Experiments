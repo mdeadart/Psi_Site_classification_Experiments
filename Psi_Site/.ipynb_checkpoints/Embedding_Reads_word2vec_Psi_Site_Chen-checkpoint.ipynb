{
 "cells": [
  {
   "cell_type": "code",
   "execution_count": 1,
   "metadata": {},
   "outputs": [],
   "source": [
    "import gzip\n",
    "import random\n",
    "from gensim.models import Word2Vec\n",
    "from gensim.models.word2vec import LineSentence\n",
    "import os\n",
    "import pickle\n",
    "from Bio import SeqIO\n",
    "import six.moves.cPickle\n",
    "\n",
    "import r2v_functions_RNAmod as r2v"
   ]
  },
  {
   "cell_type": "code",
   "execution_count": 2,
   "metadata": {},
   "outputs": [],
   "source": [
    "##################################################################################\n",
    "##### Define all parameters for model tuning\n",
    "##################################################################################\n",
    "\n",
    "k = 3\n",
    "\n",
    "dataset_dir_path = \"Data\"\n",
    "setting_dir = \"Psi_Site_Chen\"\n",
    "\n",
    "out_dataset_path = os.path.join(dataset_dir_path[0:dataset_dir_path.find('\\\\')]+\"-Embeddings-Word2Vec\", \n",
    "                                dataset_dir_path[dataset_dir_path.find('\\\\')+1:len(dataset_dir_path)])"
   ]
  },
  {
   "cell_type": "code",
   "execution_count": 3,
   "metadata": {},
   "outputs": [
    {
     "data": {
      "text/plain": [
       "[('Data\\\\Psi_Site_Chen', 'HS_990.txt'),\n",
       " ('Data\\\\Psi_Site_Chen', 'MM_944.txt'),\n",
       " ('Data\\\\Psi_Site_Chen', 'SS_628.txt')]"
      ]
     },
     "execution_count": 3,
     "metadata": {},
     "output_type": "execute_result"
    }
   ],
   "source": [
    "dataset_setting_dir_path = os.path.join(dataset_dir_path, setting_dir)\n",
    "\n",
    "file_list = []\n",
    "\n",
    "for root, dirs, files in os.walk(dataset_setting_dir_path):\n",
    "    for file in files:\n",
    "        file_list.append((root, file))\n",
    "        \n",
    "file_list"
   ]
  },
  {
   "cell_type": "code",
   "execution_count": 4,
   "metadata": {},
   "outputs": [
    {
     "name": "stdout",
     "output_type": "stream",
     "text": [
      "\n",
      "Processing started for file: Data\\Psi_Site_Chen\\HS_990.txt \n",
      "\n",
      "Processing read 0. Last batch: 0.000 minutes. Total time: 0.000 hours.\n",
      "Loading total kmers.\n",
      "Loading model.\n",
      "path_sample: Data\\Psi_Site_Chen\\HS_990.txt\n",
      "Total reads in sample HS_990: 990.\n",
      "Normalizing each read by total number of kmers in that read.\n",
      "Processing P1: 0/990.\n",
      "Saving reads to Data-Embeddings-Word2Vec\\Psi_Site_Chen\\HS_990_Site_Chen_3_64_10_5_5_0.0001_10_1e-05_remb_raw.csv.gz.\n",
      "Performing SVD: (64,990).\n",
      "Saving reads to Data-Embeddings-Word2Vec\\Psi_Site_Chen\\HS_990_Site_Chen_3_64_10_5_5_0.0001_10_1e-05_remb.csv.gz.\n",
      "\n",
      "Processing completed for current file.\n",
      "============================================================================\n",
      "\n",
      "Processing started for file: Data\\Psi_Site_Chen\\MM_944.txt \n",
      "\n",
      "Processing read 0. Last batch: 0.000 minutes. Total time: 0.000 hours.\n",
      "Loading total kmers.\n",
      "Loading model.\n",
      "path_sample: Data\\Psi_Site_Chen\\MM_944.txt\n",
      "Total reads in sample MM_944: 944.\n",
      "Normalizing each read by total number of kmers in that read.\n",
      "Processing P1: 0/944.\n",
      "Saving reads to Data-Embeddings-Word2Vec\\Psi_Site_Chen\\MM_944_Site_Chen_3_64_10_5_5_0.0001_10_1e-05_remb_raw.csv.gz.\n",
      "Performing SVD: (64,944).\n",
      "Saving reads to Data-Embeddings-Word2Vec\\Psi_Site_Chen\\MM_944_Site_Chen_3_64_10_5_5_0.0001_10_1e-05_remb.csv.gz.\n",
      "\n",
      "Processing completed for current file.\n",
      "============================================================================\n",
      "\n",
      "Processing started for file: Data\\Psi_Site_Chen\\SS_628.txt \n",
      "\n",
      "Processing read 0. Last batch: 0.000 minutes. Total time: 0.000 hours.\n",
      "Loading total kmers.\n",
      "Loading model.\n",
      "path_sample: Data\\Psi_Site_Chen\\SS_628.txt\n",
      "Total reads in sample SS_628: 628.\n",
      "Normalizing each read by total number of kmers in that read.\n",
      "Processing P1: 0/628.\n",
      "Saving reads to Data-Embeddings-Word2Vec\\Psi_Site_Chen\\SS_628_Site_Chen_3_64_10_5_5_0.0001_10_1e-05_remb_raw.csv.gz.\n",
      "Performing SVD: (64,628).\n",
      "Saving reads to Data-Embeddings-Word2Vec\\Psi_Site_Chen\\SS_628_Site_Chen_3_64_10_5_5_0.0001_10_1e-05_remb.csv.gz.\n",
      "\n",
      "Processing completed for current file.\n",
      "============================================================================\n"
     ]
    }
   ],
   "source": [
    "for current_file in file_list:\n",
    "    \n",
    "    print(\"\\nProcessing started for file:\", os.path.join(current_file[0], current_file[1]), \"\\n\")\n",
    "    \n",
    "    ##################################################################################\n",
    "    ##### getting file in/out paths and file names ready\n",
    "    ##################################################################################\n",
    "    \n",
    "    in_current_file_name = current_file[1]\n",
    "    \n",
    "    in_current_file_path = os.path.join(current_file[0],\n",
    "                                        current_file[1])\n",
    "    \n",
    "    out_current_kmers_file_name = current_file[1][0:current_file[1].find(\".\")]+\"_{}mers\".format(k)+current_file[1][current_file[1].find(\".\"):len(current_file[1])]\n",
    "        \n",
    "    out_current_dir_path = os.path.join(current_file[0][0:current_file[0].find(\"\\\\\")]+\"-Embeddings-Word2Vec\",\n",
    "                                        current_file[0][current_file[0].find('\\\\')+1:len(current_file[0])])\n",
    "    \n",
    "    ##################################################################################\n",
    "    ##### read FASTA file\n",
    "    ##################################################################################\n",
    "    \n",
    "    openFile = open(in_current_file_path)\n",
    "    fastaSequences = SeqIO.parse(openFile, \"fasta\")\n",
    "    \n",
    "    ##################################################################################\n",
    "    ##### extract data from the current fasta file\n",
    "    ##################################################################################\n",
    "    \n",
    "    id_List = []\n",
    "    seq_List = []\n",
    "    \n",
    "    for fasta in fastaSequences:\n",
    "        \n",
    "        name, sequence = fasta.id, str(fasta.seq)\n",
    "        \n",
    "        id_List.append(name)\n",
    "        seq_List.append(sequence)\n",
    "    \n",
    "    ##################################################################################\n",
    "    ##### Generate k-mers and write to file\n",
    "    ##################################################################################\n",
    "    \n",
    "    if(not os.path.isdir(out_current_dir_path)):\n",
    "        os.makedirs(out_current_dir_path)\n",
    "        \n",
    "    kmers_path = os.path.join(out_current_dir_path, out_current_kmers_file_name+\".gz\")\n",
    "    \n",
    "    out_kmers = gzip.open(kmers_path,'w')\n",
    "    \n",
    "    for sequence in seq_List:\n",
    "        curr_seq_kmers = []\n",
    "        for i in range(0,len(seq_List[0]) - k + 1):\n",
    "            curr_seq_kmers.append(sequence[i:i+k])\n",
    "\n",
    "        curr_seq_kmers_joined = \" \".join(map(str, curr_seq_kmers))+\"\\n\"\n",
    "        out_kmers.write(curr_seq_kmers_joined.encode())\n",
    "\n",
    "    out_kmers.close()\n",
    "    \n",
    "    ##################################################################################\n",
    "    ##### word2vec Model Training parameters\n",
    "    ##################################################################################\n",
    "\n",
    "    seed = random.randint(1,9999999)\n",
    "    d = 64\n",
    "    w = 5\n",
    "    neg_samps = 5\n",
    "    samp_freq = 0.0001\n",
    "    n_min = 10\n",
    "    epochs = 10\n",
    "    n_cores = 1\n",
    "    prefix = setting_dir\n",
    "    \n",
    "    model_fn = prefix + '_' + str(k) + '_' + str(d) + \\\n",
    "        '_' + str(epochs) + '_' + str(w) + '_' + \\\n",
    "        str(neg_samps).replace('0.','') + '_' + \\\n",
    "        str(samp_freq) + '_' + str(n_min) + '_model.pkl'\n",
    "\n",
    "    model_file_path = os.path.join(out_current_dir_path, model_fn)\n",
    "    \n",
    "    ##################################################################################\n",
    "    ##### Train word2vec Model\n",
    "    ##################################################################################\n",
    "    \n",
    "    kmers_init = LineSentence(kmers_path)\n",
    "\n",
    "    model = Word2Vec(kmers_init, sg=1, size=d, window=w, min_count=n_min, negative=neg_samps,\n",
    "                     sample=samp_freq, iter=epochs, workers=n_cores, seed=seed)\n",
    "\n",
    "    model.save(model_file_path)\n",
    "    \n",
    "    ##################################################################################\n",
    "    ##### Embedding Parameters \n",
    "    ##################################################################################\n",
    "\n",
    "    nr = bool(int(1))\n",
    "    a = 1e-05\n",
    "    v = 1000\n",
    "\n",
    "    path_reads = in_current_file_path\n",
    "    path_model = model_file_path\n",
    "    \n",
    "    fn_totalkmers = '%s_%s_totalkmers.pkl' % (prefix,str(k))\n",
    "\n",
    "    path_totalkmers = os.path.join(out_current_dir_path, fn_totalkmers)\n",
    "\n",
    "    work_dir = out_current_dir_path\n",
    "    \n",
    "    ##################################################################################\n",
    "    ##### Generating the read embeddings from the sequences using word2vec\n",
    "    ##################################################################################\n",
    "    \n",
    "    total_kmers = r2v.calc_total_kmers(path_reads, path_model, k, verbose=True, v=v)\n",
    "    \n",
    "    six.moves.cPickle.dump(total_kmers, open(path_totalkmers, 'wb'), protocol=4)\n",
    "    \n",
    "    r2v.embed_reads(path_sample = path_reads, path_totalkmers = path_totalkmers, path_model = path_model, path_out = work_dir, normread=nr, k=k, a=a, verbose=True, v=v)\n",
    "    \n",
    "    print(\"\\nProcessing completed for current file.\\n============================================================================\")"
   ]
  },
  {
   "cell_type": "code",
   "execution_count": 5,
   "metadata": {},
   "outputs": [
    {
     "data": {
      "text/plain": [
       "'Psi_Site_Chen'"
      ]
     },
     "execution_count": 5,
     "metadata": {},
     "output_type": "execute_result"
    }
   ],
   "source": [
    "prefix"
   ]
  },
  {
   "cell_type": "code",
   "execution_count": 6,
   "metadata": {},
   "outputs": [
    {
     "data": {
      "text/plain": [
       "'Psi_Site_Chen'"
      ]
     },
     "execution_count": 6,
     "metadata": {},
     "output_type": "execute_result"
    }
   ],
   "source": [
    "setting_dir"
   ]
  },
  {
   "cell_type": "code",
   "execution_count": 7,
   "metadata": {},
   "outputs": [],
   "source": [
    "file = \"Data-Embeddings-Word2Vec\\Psi_Site_Chen\\HS_990_Site_Chen_Psi_Site_Chen_3_64_10_5_5_0.0001_10_1e-05_remb.csv.gz\""
   ]
  },
  {
   "cell_type": "code",
   "execution_count": null,
   "metadata": {},
   "outputs": [],
   "source": []
  }
 ],
 "metadata": {
  "kernelspec": {
   "display_name": "Python 3",
   "language": "python",
   "name": "python3"
  },
  "language_info": {
   "codemirror_mode": {
    "name": "ipython",
    "version": 3
   },
   "file_extension": ".py",
   "mimetype": "text/x-python",
   "name": "python",
   "nbconvert_exporter": "python",
   "pygments_lexer": "ipython3",
   "version": "3.7.4"
  }
 },
 "nbformat": 4,
 "nbformat_minor": 2
}
